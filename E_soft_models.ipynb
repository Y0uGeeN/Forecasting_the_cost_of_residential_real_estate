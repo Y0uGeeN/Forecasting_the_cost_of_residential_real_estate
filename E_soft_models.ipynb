{
  "nbformat": 4,
  "nbformat_minor": 0,
  "metadata": {
    "colab": {
      "provenance": []
    },
    "kernelspec": {
      "name": "python3",
      "display_name": "Python 3"
    },
    "language_info": {
      "name": "python"
    }
  },
  "cells": [
    {
      "cell_type": "markdown",
      "source": [
        "#Модели для системы оценивающей объекты недвижимости по их параметрам\n",
        "\n",
        "На основании предоставленных параметров проекта я выбрал использование алгоритмы градиентного бустинга, такие как XGBoost, CatBoost или LightGBM. Эти алгоритмы имеют хорошую производительность и могут обрабатывать категориальные признаки, что является важным для данного датасета.\n",
        "\n",
        "В данном файле действем по следующему алгоритму:\n",
        "\n",
        "1.   Делим датаесет на тестовую и тренировочную выборки\n",
        "2.   Обучаем выбранные модели\n",
        "3.   Смотрим на результаты\n",
        "4.   Сохраняем лучшую модель\n"
      ],
      "metadata": {
        "id": "dTHLUAHRosK0"
      }
    },
    {
      "cell_type": "code",
      "execution_count": null,
      "metadata": {
        "id": "v9xwfqnFWWDi"
      },
      "outputs": [],
      "source": [
        "from google.colab import drive\n",
        "drive.mount('/content/drive')"
      ]
    },
    {
      "cell_type": "code",
      "source": [
        "!pip install catboost"
      ],
      "metadata": {
        "id": "Z79D41DHjacM"
      },
      "execution_count": null,
      "outputs": []
    },
    {
      "cell_type": "code",
      "source": [
        "import tensorflow as tf\n",
        "import re\n",
        "import numpy as np\n",
        "import matplotlib.pyplot as plt\n",
        "import seaborn as sns\n",
        "import pandas as pd\n",
        "import folium\n",
        "\n",
        "from sklearn.model_selection import cross_val_score\n",
        "from sklearn.model_selection import train_test_split, GridSearchCV\n",
        "from lightgbm import LGBMRegressor\n",
        "from sklearn.model_selection import learning_curve\n",
        "from sklearn.model_selection import train_test_split, GridSearchCV\n",
        "from sklearn.metrics import mean_squared_error, r2_score\n",
        "from xgboost import XGBRegressor\n",
        "from sklearn.metrics import mean_absolute_error\n",
        "\n",
        "from sklearn.model_selection import GridSearchCV\n",
        "from catboost import CatBoostRegressor\n",
        "import pandas as pd\n",
        "from sklearn.model_selection import train_test_split\n",
        "from sklearn.metrics import mean_squared_error\n",
        "import xgboost as xgb\n",
        "from sklearn.model_selection import train_test_split\n",
        "from sklearn.metrics import accuracy_score\n",
        "\n",
        "from xgboost import XGBRegressor\n",
        "\n",
        "\n",
        "\n",
        "# Сброс ограничений на количество выводимых рядов\n",
        "pd.set_option('display.max_rows', None)\n",
        " \n",
        "# Сброс ограничений на число столбцов\n",
        "pd.set_option('display.max_columns', None)\n",
        " \n",
        "# Сброс ограничений на количество символов в записи\n",
        "pd.set_option('display.max_colwidth', None)"
      ],
      "metadata": {
        "id": "9vzciDT-WgQa"
      },
      "execution_count": 4,
      "outputs": []
    },
    {
      "cell_type": "code",
      "source": [
        "data_itog = pd.read_excel('/content/drive/MyDrive/Colab Notebooks/files_labs/E-SOFT/final_data.xlsx')\n",
        "display(data_itog.info())\n",
        "display(data_itog.shape)\n"
      ],
      "metadata": {
        "colab": {
          "base_uri": "https://localhost:8080/",
          "height": 555
        },
        "id": "WDAQED3tWgWv",
        "outputId": "7f243acb-b74e-46f5-8223-ad58c647ff95"
      },
      "execution_count": 5,
      "outputs": [
        {
          "output_type": "stream",
          "name": "stdout",
          "text": [
            "<class 'pandas.core.frame.DataFrame'>\n",
            "RangeIndex: 59667 entries, 0 to 59666\n",
            "Data columns (total 22 columns):\n",
            " #   Column                  Non-Null Count  Dtype  \n",
            "---  ------                  --------------  -----  \n",
            " 0   sold_price              59667 non-null  int64  \n",
            " 1   floor_num               59667 non-null  int64  \n",
            " 2   floors_cnt              59667 non-null  int64  \n",
            " 3   rooms_cnt               59667 non-null  int64  \n",
            " 4   bedrooms_cnt            59667 non-null  int64  \n",
            " 5   building_year           59667 non-null  int64  \n",
            " 6   area_total              59667 non-null  float64\n",
            " 7   type                    59667 non-null  int64  \n",
            " 8   two_levels              59667 non-null  int64  \n",
            " 9   bathroom                59667 non-null  int64  \n",
            " 10  bathrooms_cnt           59667 non-null  int64  \n",
            " 11  windows                 59667 non-null  int64  \n",
            " 12  territory               59667 non-null  int64  \n",
            " 13  keep                    59667 non-null  int64  \n",
            " 14  balcon                  59667 non-null  int64  \n",
            " 15  city_district_id        59667 non-null  int64  \n",
            " 16  city_street_id          59667 non-null  int64  \n",
            " 17  building_year_category  59667 non-null  int64  \n",
            " 18  sold_price_category     59667 non-null  int64  \n",
            " 19  wall_id_category        59667 non-null  int64  \n",
            " 20  series_id_category      59667 non-null  int64  \n",
            " 21  area_total_category     59667 non-null  int64  \n",
            "dtypes: float64(1), int64(21)\n",
            "memory usage: 10.0 MB\n"
          ]
        },
        {
          "output_type": "display_data",
          "data": {
            "text/plain": [
              "None"
            ]
          },
          "metadata": {}
        },
        {
          "output_type": "display_data",
          "data": {
            "text/plain": [
              "(59667, 22)"
            ]
          },
          "metadata": {}
        }
      ]
    },
    {
      "cell_type": "code",
      "source": [
        "display(data_itog.head(10))"
      ],
      "metadata": {
        "colab": {
          "base_uri": "https://localhost:8080/",
          "height": 427
        },
        "id": "QIH_W84_XrdU",
        "outputId": "2b017baf-0c95-4fc5-b575-85a88df12dd9"
      },
      "execution_count": 6,
      "outputs": [
        {
          "output_type": "display_data",
          "data": {
            "text/plain": [
              "   sold_price  floor_num  floors_cnt  rooms_cnt  bedrooms_cnt  building_year  \\\n",
              "0     4880000          5           9          3             0           1989   \n",
              "1     2550000          5          10          1             0           2008   \n",
              "2     2200000          5           5          2             0           1969   \n",
              "3     2200000          4           5          2             0           1988   \n",
              "4     2000000          3           9          1             1           1980   \n",
              "5     4300000          2          10          1             0           2006   \n",
              "6     3450000          9          10          2             1           2009   \n",
              "7     9600000         14          14          3             0           2005   \n",
              "8     3100000          1           5          3             0           1994   \n",
              "9     3500000          5           9          3             0           1990   \n",
              "\n",
              "   area_total  type  two_levels  bathroom  bathrooms_cnt  windows  territory  \\\n",
              "0        62.0     0           0         0              1        0          3   \n",
              "1        40.0     0           0         1              1        1          4   \n",
              "2        44.0     0           0         1              1        0          3   \n",
              "3        47.3     0           0         0              1        0          3   \n",
              "4        33.0     0           0         1              2        0          3   \n",
              "5        52.0     0           0         0              1        0          6   \n",
              "6        55.0     0           0         1              1        0          3   \n",
              "7       114.0     0           0         1              2        0          6   \n",
              "8        61.0     0           0         1              1        0          3   \n",
              "9        77.0     0           0         1              1        0          3   \n",
              "\n",
              "   keep  balcon  city_district_id  city_street_id  building_year_category  \\\n",
              "0     0       0                 0               0                       2   \n",
              "1     1       0                 1               1                       3   \n",
              "2     0       0                 2               2                       1   \n",
              "3     0       3                 4               4                       2   \n",
              "4     0       0                 7               7                       1   \n",
              "5     0       3                 7               8                       3   \n",
              "6     0       3                 8               9                       3   \n",
              "7     4       0                 9              10                       3   \n",
              "8     0       0                10              11                       2   \n",
              "9     0       1                11              12                       2   \n",
              "\n",
              "   sold_price_category  wall_id_category  series_id_category  \\\n",
              "0                    8                 0                   1   \n",
              "1                    4                 1                   1   \n",
              "2                    3                 1                   1   \n",
              "3                    3                 1                   1   \n",
              "4                    2                 1                   1   \n",
              "5                    7                 0                   0   \n",
              "6                    5                 0                   0   \n",
              "7                   18                 0                   0   \n",
              "8                    5                 0                   1   \n",
              "9                    5                 2                   2   \n",
              "\n",
              "   area_total_category  \n",
              "0                    6  \n",
              "1                    3  \n",
              "2                    4  \n",
              "3                    4  \n",
              "4                    3  \n",
              "5                    5  \n",
              "6                    5  \n",
              "7                   11  \n",
              "8                    6  \n",
              "9                    7  "
            ],
            "text/html": [
              "\n",
              "  <div id=\"df-eebbbf53-9cd9-465f-b9db-3e283065c6c3\">\n",
              "    <div class=\"colab-df-container\">\n",
              "      <div>\n",
              "<style scoped>\n",
              "    .dataframe tbody tr th:only-of-type {\n",
              "        vertical-align: middle;\n",
              "    }\n",
              "\n",
              "    .dataframe tbody tr th {\n",
              "        vertical-align: top;\n",
              "    }\n",
              "\n",
              "    .dataframe thead th {\n",
              "        text-align: right;\n",
              "    }\n",
              "</style>\n",
              "<table border=\"1\" class=\"dataframe\">\n",
              "  <thead>\n",
              "    <tr style=\"text-align: right;\">\n",
              "      <th></th>\n",
              "      <th>sold_price</th>\n",
              "      <th>floor_num</th>\n",
              "      <th>floors_cnt</th>\n",
              "      <th>rooms_cnt</th>\n",
              "      <th>bedrooms_cnt</th>\n",
              "      <th>building_year</th>\n",
              "      <th>area_total</th>\n",
              "      <th>type</th>\n",
              "      <th>two_levels</th>\n",
              "      <th>bathroom</th>\n",
              "      <th>bathrooms_cnt</th>\n",
              "      <th>windows</th>\n",
              "      <th>territory</th>\n",
              "      <th>keep</th>\n",
              "      <th>balcon</th>\n",
              "      <th>city_district_id</th>\n",
              "      <th>city_street_id</th>\n",
              "      <th>building_year_category</th>\n",
              "      <th>sold_price_category</th>\n",
              "      <th>wall_id_category</th>\n",
              "      <th>series_id_category</th>\n",
              "      <th>area_total_category</th>\n",
              "    </tr>\n",
              "  </thead>\n",
              "  <tbody>\n",
              "    <tr>\n",
              "      <th>0</th>\n",
              "      <td>4880000</td>\n",
              "      <td>5</td>\n",
              "      <td>9</td>\n",
              "      <td>3</td>\n",
              "      <td>0</td>\n",
              "      <td>1989</td>\n",
              "      <td>62.0</td>\n",
              "      <td>0</td>\n",
              "      <td>0</td>\n",
              "      <td>0</td>\n",
              "      <td>1</td>\n",
              "      <td>0</td>\n",
              "      <td>3</td>\n",
              "      <td>0</td>\n",
              "      <td>0</td>\n",
              "      <td>0</td>\n",
              "      <td>0</td>\n",
              "      <td>2</td>\n",
              "      <td>8</td>\n",
              "      <td>0</td>\n",
              "      <td>1</td>\n",
              "      <td>6</td>\n",
              "    </tr>\n",
              "    <tr>\n",
              "      <th>1</th>\n",
              "      <td>2550000</td>\n",
              "      <td>5</td>\n",
              "      <td>10</td>\n",
              "      <td>1</td>\n",
              "      <td>0</td>\n",
              "      <td>2008</td>\n",
              "      <td>40.0</td>\n",
              "      <td>0</td>\n",
              "      <td>0</td>\n",
              "      <td>1</td>\n",
              "      <td>1</td>\n",
              "      <td>1</td>\n",
              "      <td>4</td>\n",
              "      <td>1</td>\n",
              "      <td>0</td>\n",
              "      <td>1</td>\n",
              "      <td>1</td>\n",
              "      <td>3</td>\n",
              "      <td>4</td>\n",
              "      <td>1</td>\n",
              "      <td>1</td>\n",
              "      <td>3</td>\n",
              "    </tr>\n",
              "    <tr>\n",
              "      <th>2</th>\n",
              "      <td>2200000</td>\n",
              "      <td>5</td>\n",
              "      <td>5</td>\n",
              "      <td>2</td>\n",
              "      <td>0</td>\n",
              "      <td>1969</td>\n",
              "      <td>44.0</td>\n",
              "      <td>0</td>\n",
              "      <td>0</td>\n",
              "      <td>1</td>\n",
              "      <td>1</td>\n",
              "      <td>0</td>\n",
              "      <td>3</td>\n",
              "      <td>0</td>\n",
              "      <td>0</td>\n",
              "      <td>2</td>\n",
              "      <td>2</td>\n",
              "      <td>1</td>\n",
              "      <td>3</td>\n",
              "      <td>1</td>\n",
              "      <td>1</td>\n",
              "      <td>4</td>\n",
              "    </tr>\n",
              "    <tr>\n",
              "      <th>3</th>\n",
              "      <td>2200000</td>\n",
              "      <td>4</td>\n",
              "      <td>5</td>\n",
              "      <td>2</td>\n",
              "      <td>0</td>\n",
              "      <td>1988</td>\n",
              "      <td>47.3</td>\n",
              "      <td>0</td>\n",
              "      <td>0</td>\n",
              "      <td>0</td>\n",
              "      <td>1</td>\n",
              "      <td>0</td>\n",
              "      <td>3</td>\n",
              "      <td>0</td>\n",
              "      <td>3</td>\n",
              "      <td>4</td>\n",
              "      <td>4</td>\n",
              "      <td>2</td>\n",
              "      <td>3</td>\n",
              "      <td>1</td>\n",
              "      <td>1</td>\n",
              "      <td>4</td>\n",
              "    </tr>\n",
              "    <tr>\n",
              "      <th>4</th>\n",
              "      <td>2000000</td>\n",
              "      <td>3</td>\n",
              "      <td>9</td>\n",
              "      <td>1</td>\n",
              "      <td>1</td>\n",
              "      <td>1980</td>\n",
              "      <td>33.0</td>\n",
              "      <td>0</td>\n",
              "      <td>0</td>\n",
              "      <td>1</td>\n",
              "      <td>2</td>\n",
              "      <td>0</td>\n",
              "      <td>3</td>\n",
              "      <td>0</td>\n",
              "      <td>0</td>\n",
              "      <td>7</td>\n",
              "      <td>7</td>\n",
              "      <td>1</td>\n",
              "      <td>2</td>\n",
              "      <td>1</td>\n",
              "      <td>1</td>\n",
              "      <td>3</td>\n",
              "    </tr>\n",
              "    <tr>\n",
              "      <th>5</th>\n",
              "      <td>4300000</td>\n",
              "      <td>2</td>\n",
              "      <td>10</td>\n",
              "      <td>1</td>\n",
              "      <td>0</td>\n",
              "      <td>2006</td>\n",
              "      <td>52.0</td>\n",
              "      <td>0</td>\n",
              "      <td>0</td>\n",
              "      <td>0</td>\n",
              "      <td>1</td>\n",
              "      <td>0</td>\n",
              "      <td>6</td>\n",
              "      <td>0</td>\n",
              "      <td>3</td>\n",
              "      <td>7</td>\n",
              "      <td>8</td>\n",
              "      <td>3</td>\n",
              "      <td>7</td>\n",
              "      <td>0</td>\n",
              "      <td>0</td>\n",
              "      <td>5</td>\n",
              "    </tr>\n",
              "    <tr>\n",
              "      <th>6</th>\n",
              "      <td>3450000</td>\n",
              "      <td>9</td>\n",
              "      <td>10</td>\n",
              "      <td>2</td>\n",
              "      <td>1</td>\n",
              "      <td>2009</td>\n",
              "      <td>55.0</td>\n",
              "      <td>0</td>\n",
              "      <td>0</td>\n",
              "      <td>1</td>\n",
              "      <td>1</td>\n",
              "      <td>0</td>\n",
              "      <td>3</td>\n",
              "      <td>0</td>\n",
              "      <td>3</td>\n",
              "      <td>8</td>\n",
              "      <td>9</td>\n",
              "      <td>3</td>\n",
              "      <td>5</td>\n",
              "      <td>0</td>\n",
              "      <td>0</td>\n",
              "      <td>5</td>\n",
              "    </tr>\n",
              "    <tr>\n",
              "      <th>7</th>\n",
              "      <td>9600000</td>\n",
              "      <td>14</td>\n",
              "      <td>14</td>\n",
              "      <td>3</td>\n",
              "      <td>0</td>\n",
              "      <td>2005</td>\n",
              "      <td>114.0</td>\n",
              "      <td>0</td>\n",
              "      <td>0</td>\n",
              "      <td>1</td>\n",
              "      <td>2</td>\n",
              "      <td>0</td>\n",
              "      <td>6</td>\n",
              "      <td>4</td>\n",
              "      <td>0</td>\n",
              "      <td>9</td>\n",
              "      <td>10</td>\n",
              "      <td>3</td>\n",
              "      <td>18</td>\n",
              "      <td>0</td>\n",
              "      <td>0</td>\n",
              "      <td>11</td>\n",
              "    </tr>\n",
              "    <tr>\n",
              "      <th>8</th>\n",
              "      <td>3100000</td>\n",
              "      <td>1</td>\n",
              "      <td>5</td>\n",
              "      <td>3</td>\n",
              "      <td>0</td>\n",
              "      <td>1994</td>\n",
              "      <td>61.0</td>\n",
              "      <td>0</td>\n",
              "      <td>0</td>\n",
              "      <td>1</td>\n",
              "      <td>1</td>\n",
              "      <td>0</td>\n",
              "      <td>3</td>\n",
              "      <td>0</td>\n",
              "      <td>0</td>\n",
              "      <td>10</td>\n",
              "      <td>11</td>\n",
              "      <td>2</td>\n",
              "      <td>5</td>\n",
              "      <td>0</td>\n",
              "      <td>1</td>\n",
              "      <td>6</td>\n",
              "    </tr>\n",
              "    <tr>\n",
              "      <th>9</th>\n",
              "      <td>3500000</td>\n",
              "      <td>5</td>\n",
              "      <td>9</td>\n",
              "      <td>3</td>\n",
              "      <td>0</td>\n",
              "      <td>1990</td>\n",
              "      <td>77.0</td>\n",
              "      <td>0</td>\n",
              "      <td>0</td>\n",
              "      <td>1</td>\n",
              "      <td>1</td>\n",
              "      <td>0</td>\n",
              "      <td>3</td>\n",
              "      <td>0</td>\n",
              "      <td>1</td>\n",
              "      <td>11</td>\n",
              "      <td>12</td>\n",
              "      <td>2</td>\n",
              "      <td>5</td>\n",
              "      <td>2</td>\n",
              "      <td>2</td>\n",
              "      <td>7</td>\n",
              "    </tr>\n",
              "  </tbody>\n",
              "</table>\n",
              "</div>\n",
              "      <button class=\"colab-df-convert\" onclick=\"convertToInteractive('df-eebbbf53-9cd9-465f-b9db-3e283065c6c3')\"\n",
              "              title=\"Convert this dataframe to an interactive table.\"\n",
              "              style=\"display:none;\">\n",
              "        \n",
              "  <svg xmlns=\"http://www.w3.org/2000/svg\" height=\"24px\"viewBox=\"0 0 24 24\"\n",
              "       width=\"24px\">\n",
              "    <path d=\"M0 0h24v24H0V0z\" fill=\"none\"/>\n",
              "    <path d=\"M18.56 5.44l.94 2.06.94-2.06 2.06-.94-2.06-.94-.94-2.06-.94 2.06-2.06.94zm-11 1L8.5 8.5l.94-2.06 2.06-.94-2.06-.94L8.5 2.5l-.94 2.06-2.06.94zm10 10l.94 2.06.94-2.06 2.06-.94-2.06-.94-.94-2.06-.94 2.06-2.06.94z\"/><path d=\"M17.41 7.96l-1.37-1.37c-.4-.4-.92-.59-1.43-.59-.52 0-1.04.2-1.43.59L10.3 9.45l-7.72 7.72c-.78.78-.78 2.05 0 2.83L4 21.41c.39.39.9.59 1.41.59.51 0 1.02-.2 1.41-.59l7.78-7.78 2.81-2.81c.8-.78.8-2.07 0-2.86zM5.41 20L4 18.59l7.72-7.72 1.47 1.35L5.41 20z\"/>\n",
              "  </svg>\n",
              "      </button>\n",
              "      \n",
              "  <style>\n",
              "    .colab-df-container {\n",
              "      display:flex;\n",
              "      flex-wrap:wrap;\n",
              "      gap: 12px;\n",
              "    }\n",
              "\n",
              "    .colab-df-convert {\n",
              "      background-color: #E8F0FE;\n",
              "      border: none;\n",
              "      border-radius: 50%;\n",
              "      cursor: pointer;\n",
              "      display: none;\n",
              "      fill: #1967D2;\n",
              "      height: 32px;\n",
              "      padding: 0 0 0 0;\n",
              "      width: 32px;\n",
              "    }\n",
              "\n",
              "    .colab-df-convert:hover {\n",
              "      background-color: #E2EBFA;\n",
              "      box-shadow: 0px 1px 2px rgba(60, 64, 67, 0.3), 0px 1px 3px 1px rgba(60, 64, 67, 0.15);\n",
              "      fill: #174EA6;\n",
              "    }\n",
              "\n",
              "    [theme=dark] .colab-df-convert {\n",
              "      background-color: #3B4455;\n",
              "      fill: #D2E3FC;\n",
              "    }\n",
              "\n",
              "    [theme=dark] .colab-df-convert:hover {\n",
              "      background-color: #434B5C;\n",
              "      box-shadow: 0px 1px 3px 1px rgba(0, 0, 0, 0.15);\n",
              "      filter: drop-shadow(0px 1px 2px rgba(0, 0, 0, 0.3));\n",
              "      fill: #FFFFFF;\n",
              "    }\n",
              "  </style>\n",
              "\n",
              "      <script>\n",
              "        const buttonEl =\n",
              "          document.querySelector('#df-eebbbf53-9cd9-465f-b9db-3e283065c6c3 button.colab-df-convert');\n",
              "        buttonEl.style.display =\n",
              "          google.colab.kernel.accessAllowed ? 'block' : 'none';\n",
              "\n",
              "        async function convertToInteractive(key) {\n",
              "          const element = document.querySelector('#df-eebbbf53-9cd9-465f-b9db-3e283065c6c3');\n",
              "          const dataTable =\n",
              "            await google.colab.kernel.invokeFunction('convertToInteractive',\n",
              "                                                     [key], {});\n",
              "          if (!dataTable) return;\n",
              "\n",
              "          const docLinkHtml = 'Like what you see? Visit the ' +\n",
              "            '<a target=\"_blank\" href=https://colab.research.google.com/notebooks/data_table.ipynb>data table notebook</a>'\n",
              "            + ' to learn more about interactive tables.';\n",
              "          element.innerHTML = '';\n",
              "          dataTable['output_type'] = 'display_data';\n",
              "          await google.colab.output.renderOutput(dataTable, element);\n",
              "          const docLink = document.createElement('div');\n",
              "          docLink.innerHTML = docLinkHtml;\n",
              "          element.appendChild(docLink);\n",
              "        }\n",
              "      </script>\n",
              "    </div>\n",
              "  </div>\n",
              "  "
            ]
          },
          "metadata": {}
        }
      ]
    },
    {
      "cell_type": "code",
      "source": [
        "# Разделение на обучающую и тестовую выборки\n",
        "X_train, X_test, y_train, y_test = train_test_split(data_itog.drop('sold_price', axis=1), \n",
        "                                                    data_itog['sold_price'], \n",
        "                                                    test_size=0.3, \n",
        "                                                    random_state=42)\n"
      ],
      "metadata": {
        "id": "uTv-BqmcsjFz"
      },
      "execution_count": 7,
      "outputs": []
    },
    {
      "cell_type": "markdown",
      "source": [
        "#LightGBM"
      ],
      "metadata": {
        "id": "gdL9qxBpjPwI"
      }
    },
    {
      "cell_type": "code",
      "source": [
        "# Определение модели LightGBM\n",
        "model = LGBMRegressor()"
      ],
      "metadata": {
        "id": "fgmaZ-HeteYz"
      },
      "execution_count": 8,
      "outputs": []
    },
    {
      "cell_type": "code",
      "source": [
        "# Определение сетки гиперпараметров для поиска оптимальных значений\n",
        "param_grid = {\n",
        "    'learning_rate': [0.1, 0.01, 0.001],\n",
        "    'n_estimators': [50, 100, 200],\n",
        "    'max_depth': [3, 5, 7]\n",
        "}\n",
        "\n",
        "# Создание объекта GridSearchCV для подбора оптимальных гиперпараметров\n",
        "grid = GridSearchCV(model, param_grid, cv=5)\n",
        "\n",
        "# Обучение модели на тренировочной выборке\n",
        "grid.fit(X_train, y_train)\n"
      ],
      "metadata": {
        "id": "0__Z9DLIuCxg",
        "colab": {
          "base_uri": "https://localhost:8080/",
          "height": 118
        },
        "outputId": "fe7dcfd6-27c6-453b-fefa-0837f6d03269"
      },
      "execution_count": 9,
      "outputs": [
        {
          "output_type": "execute_result",
          "data": {
            "text/plain": [
              "GridSearchCV(cv=5, estimator=LGBMRegressor(),\n",
              "             param_grid={'learning_rate': [0.1, 0.01, 0.001],\n",
              "                         'max_depth': [3, 5, 7],\n",
              "                         'n_estimators': [50, 100, 200]})"
            ],
            "text/html": [
              "<style>#sk-container-id-1 {color: black;background-color: white;}#sk-container-id-1 pre{padding: 0;}#sk-container-id-1 div.sk-toggleable {background-color: white;}#sk-container-id-1 label.sk-toggleable__label {cursor: pointer;display: block;width: 100%;margin-bottom: 0;padding: 0.3em;box-sizing: border-box;text-align: center;}#sk-container-id-1 label.sk-toggleable__label-arrow:before {content: \"▸\";float: left;margin-right: 0.25em;color: #696969;}#sk-container-id-1 label.sk-toggleable__label-arrow:hover:before {color: black;}#sk-container-id-1 div.sk-estimator:hover label.sk-toggleable__label-arrow:before {color: black;}#sk-container-id-1 div.sk-toggleable__content {max-height: 0;max-width: 0;overflow: hidden;text-align: left;background-color: #f0f8ff;}#sk-container-id-1 div.sk-toggleable__content pre {margin: 0.2em;color: black;border-radius: 0.25em;background-color: #f0f8ff;}#sk-container-id-1 input.sk-toggleable__control:checked~div.sk-toggleable__content {max-height: 200px;max-width: 100%;overflow: auto;}#sk-container-id-1 input.sk-toggleable__control:checked~label.sk-toggleable__label-arrow:before {content: \"▾\";}#sk-container-id-1 div.sk-estimator input.sk-toggleable__control:checked~label.sk-toggleable__label {background-color: #d4ebff;}#sk-container-id-1 div.sk-label input.sk-toggleable__control:checked~label.sk-toggleable__label {background-color: #d4ebff;}#sk-container-id-1 input.sk-hidden--visually {border: 0;clip: rect(1px 1px 1px 1px);clip: rect(1px, 1px, 1px, 1px);height: 1px;margin: -1px;overflow: hidden;padding: 0;position: absolute;width: 1px;}#sk-container-id-1 div.sk-estimator {font-family: monospace;background-color: #f0f8ff;border: 1px dotted black;border-radius: 0.25em;box-sizing: border-box;margin-bottom: 0.5em;}#sk-container-id-1 div.sk-estimator:hover {background-color: #d4ebff;}#sk-container-id-1 div.sk-parallel-item::after {content: \"\";width: 100%;border-bottom: 1px solid gray;flex-grow: 1;}#sk-container-id-1 div.sk-label:hover label.sk-toggleable__label {background-color: #d4ebff;}#sk-container-id-1 div.sk-serial::before {content: \"\";position: absolute;border-left: 1px solid gray;box-sizing: border-box;top: 0;bottom: 0;left: 50%;z-index: 0;}#sk-container-id-1 div.sk-serial {display: flex;flex-direction: column;align-items: center;background-color: white;padding-right: 0.2em;padding-left: 0.2em;position: relative;}#sk-container-id-1 div.sk-item {position: relative;z-index: 1;}#sk-container-id-1 div.sk-parallel {display: flex;align-items: stretch;justify-content: center;background-color: white;position: relative;}#sk-container-id-1 div.sk-item::before, #sk-container-id-1 div.sk-parallel-item::before {content: \"\";position: absolute;border-left: 1px solid gray;box-sizing: border-box;top: 0;bottom: 0;left: 50%;z-index: -1;}#sk-container-id-1 div.sk-parallel-item {display: flex;flex-direction: column;z-index: 1;position: relative;background-color: white;}#sk-container-id-1 div.sk-parallel-item:first-child::after {align-self: flex-end;width: 50%;}#sk-container-id-1 div.sk-parallel-item:last-child::after {align-self: flex-start;width: 50%;}#sk-container-id-1 div.sk-parallel-item:only-child::after {width: 0;}#sk-container-id-1 div.sk-dashed-wrapped {border: 1px dashed gray;margin: 0 0.4em 0.5em 0.4em;box-sizing: border-box;padding-bottom: 0.4em;background-color: white;}#sk-container-id-1 div.sk-label label {font-family: monospace;font-weight: bold;display: inline-block;line-height: 1.2em;}#sk-container-id-1 div.sk-label-container {text-align: center;}#sk-container-id-1 div.sk-container {/* jupyter's `normalize.less` sets `[hidden] { display: none; }` but bootstrap.min.css set `[hidden] { display: none !important; }` so we also need the `!important` here to be able to override the default hidden behavior on the sphinx rendered scikit-learn.org. See: https://github.com/scikit-learn/scikit-learn/issues/21755 */display: inline-block !important;position: relative;}#sk-container-id-1 div.sk-text-repr-fallback {display: none;}</style><div id=\"sk-container-id-1\" class=\"sk-top-container\"><div class=\"sk-text-repr-fallback\"><pre>GridSearchCV(cv=5, estimator=LGBMRegressor(),\n",
              "             param_grid={&#x27;learning_rate&#x27;: [0.1, 0.01, 0.001],\n",
              "                         &#x27;max_depth&#x27;: [3, 5, 7],\n",
              "                         &#x27;n_estimators&#x27;: [50, 100, 200]})</pre><b>In a Jupyter environment, please rerun this cell to show the HTML representation or trust the notebook. <br />On GitHub, the HTML representation is unable to render, please try loading this page with nbviewer.org.</b></div><div class=\"sk-container\" hidden><div class=\"sk-item sk-dashed-wrapped\"><div class=\"sk-label-container\"><div class=\"sk-label sk-toggleable\"><input class=\"sk-toggleable__control sk-hidden--visually\" id=\"sk-estimator-id-1\" type=\"checkbox\" ><label for=\"sk-estimator-id-1\" class=\"sk-toggleable__label sk-toggleable__label-arrow\">GridSearchCV</label><div class=\"sk-toggleable__content\"><pre>GridSearchCV(cv=5, estimator=LGBMRegressor(),\n",
              "             param_grid={&#x27;learning_rate&#x27;: [0.1, 0.01, 0.001],\n",
              "                         &#x27;max_depth&#x27;: [3, 5, 7],\n",
              "                         &#x27;n_estimators&#x27;: [50, 100, 200]})</pre></div></div></div><div class=\"sk-parallel\"><div class=\"sk-parallel-item\"><div class=\"sk-item\"><div class=\"sk-label-container\"><div class=\"sk-label sk-toggleable\"><input class=\"sk-toggleable__control sk-hidden--visually\" id=\"sk-estimator-id-2\" type=\"checkbox\" ><label for=\"sk-estimator-id-2\" class=\"sk-toggleable__label sk-toggleable__label-arrow\">estimator: LGBMRegressor</label><div class=\"sk-toggleable__content\"><pre>LGBMRegressor()</pre></div></div></div><div class=\"sk-serial\"><div class=\"sk-item\"><div class=\"sk-estimator sk-toggleable\"><input class=\"sk-toggleable__control sk-hidden--visually\" id=\"sk-estimator-id-3\" type=\"checkbox\" ><label for=\"sk-estimator-id-3\" class=\"sk-toggleable__label sk-toggleable__label-arrow\">LGBMRegressor</label><div class=\"sk-toggleable__content\"><pre>LGBMRegressor()</pre></div></div></div></div></div></div></div></div></div></div>"
            ]
          },
          "metadata": {},
          "execution_count": 9
        }
      ]
    },
    {
      "cell_type": "markdown",
      "source": [
        "# Вывод наилучших параметров и результатов модели LightGBM"
      ],
      "metadata": {
        "id": "ugDDk1-IqgrH"
      }
    },
    {
      "cell_type": "code",
      "source": [
        "\n",
        "print(\"Best parameters: \", grid.best_params_)\n",
        "print(\"Train score: {:.4f}\".format(grid.score(X_train, y_train)))\n",
        "print(\"Test score: {:.4f}\".format(grid.score(X_test, y_test)))"
      ],
      "metadata": {
        "colab": {
          "base_uri": "https://localhost:8080/"
        },
        "id": "HYky9vCxBMPe",
        "outputId": "3584b705-0427-4a8d-d6ce-878d930dcd57"
      },
      "execution_count": 10,
      "outputs": [
        {
          "output_type": "stream",
          "name": "stdout",
          "text": [
            "Best parameters:  {'learning_rate': 0.1, 'max_depth': 7, 'n_estimators': 200}\n",
            "Train score: 0.9881\n",
            "Test score: 0.9869\n"
          ]
        }
      ]
    },
    {
      "cell_type": "code",
      "source": [
        "y_train_pred = grid.predict(X_train)\n",
        "y_test_pred = grid.predict(X_test)\n",
        "\n",
        "train_mae = mean_absolute_error(y_train, y_train_pred)\n",
        "test_mae = mean_absolute_error(y_test, y_test_pred)\n",
        "\n",
        "y_pred_train = grid.predict(X_train)\n",
        "y_pred_test = grid.predict(X_test)\n",
        "\n",
        "train_mse = mean_squared_error(y_train, y_pred_train)\n",
        "test_mse = mean_squared_error(y_test, y_pred_test)"
      ],
      "metadata": {
        "id": "YAQ7yYH1DVPr"
      },
      "execution_count": 11,
      "outputs": []
    },
    {
      "cell_type": "code",
      "source": [
        "print(\"Best parameters: \", grid.best_params_)\n",
        "print(\"Train score: {:.4f}\".format(grid.score(X_train, y_train)))\n",
        "print(\"Test score: {:.4f}\".format(grid.score(X_test, y_test)))\n",
        "print(\"Train RMSE: {:.4f}\".format(np.sqrt(mean_squared_error(y_train, y_train_pred))))\n",
        "print(\"Test RMSE: {:.4f}\".format(np.sqrt(mean_squared_error(y_test, y_test_pred))))\n",
        "print(\"Train R^2: {:.4f}\".format(r2_score(y_train, y_train_pred)))\n",
        "print(\"Test R^2: {:.4f}\".format(r2_score(y_test, y_test_pred)))\n",
        "print(\"Train MAE: {:.4f}\".format(train_mae))\n",
        "print(\"Test MAE: {:.4f}\".format(test_mae))\n",
        "\n",
        "y_pred_train = grid.predict(X_train)\n",
        "y_pred_test = grid.predict(X_test)\n",
        "\n",
        "train_mse = mean_squared_error(y_train, y_pred_train)\n",
        "test_mse = mean_squared_error(y_test, y_pred_test)"
      ],
      "metadata": {
        "colab": {
          "base_uri": "https://localhost:8080/"
        },
        "id": "tiVKF2SVuAxp",
        "outputId": "dc9d7c2f-8d74-40ab-9c38-7bf066524599"
      },
      "execution_count": 12,
      "outputs": [
        {
          "output_type": "stream",
          "name": "stdout",
          "text": [
            "Best parameters:  {'learning_rate': 0.1, 'max_depth': 7, 'n_estimators': 200}\n",
            "Train score: 0.9881\n",
            "Test score: 0.9869\n",
            "Train RMSE: 128659.0546\n",
            "Test RMSE: 135886.9488\n",
            "Train R^2: 0.9881\n",
            "Test R^2: 0.9869\n",
            "Train MAE: 109076.6006\n",
            "Test MAE: 115301.8229\n"
          ]
        }
      ]
    },
    {
      "cell_type": "markdown",
      "source": [
        "Кросс валидация "
      ],
      "metadata": {
        "id": "cPbAchedEfrq"
      }
    },
    {
      "cell_type": "code",
      "source": [
        "\n",
        "# Здесь проводим кросс-валидацию с 5 фолдами и считаем метрику на каждом фолде\n",
        "scores = cross_val_score(model, X_train, y_train, cv=5, scoring='r2')\n",
        "\n",
        "# Здесь выводим среднее значение и стандартное отклонение метрики\n",
        "print(\"Mean R^2 score: {:.4f} (std: {:.4f})\".format(np.mean(scores), np.std(scores)))\n"
      ],
      "metadata": {
        "id": "zRJS2Y8_5xj0",
        "colab": {
          "base_uri": "https://localhost:8080/"
        },
        "outputId": "9e97cd8f-9637-4ebf-efdc-3bec9416bba6"
      },
      "execution_count": 13,
      "outputs": [
        {
          "output_type": "stream",
          "name": "stdout",
          "text": [
            "Mean R^2 score: 0.9863 (std: 0.0004)\n"
          ]
        }
      ]
    },
    {
      "cell_type": "markdown",
      "source": [
        "Кривые обучения и валидации"
      ],
      "metadata": {
        "id": "ExgZCk0sqPIu"
      }
    },
    {
      "cell_type": "code",
      "source": [
        "train_sizes, train_scores, test_scores = learning_curve(\n",
        "    model, X_train, y_train, cv=5, scoring='r2', n_jobs=-1)\n",
        "\n",
        "train_mean = np.mean(train_scores, axis=1)\n",
        "train_std = np.std(train_scores, axis=1)\n",
        "test_mean = np.mean(test_scores, axis=1)\n",
        "test_std = np.std(test_scores, axis=1)\n",
        "\n",
        "plt.plot(train_sizes, train_mean, label=\"Training score\", color=\"r\")\n",
        "plt.fill_between(train_sizes, train_mean - train_std, train_mean + train_std, color=\"r\", alpha=0.2)\n",
        "plt.plot(train_sizes, test_mean, label=\"Cross-validation score\", color=\"b\")\n",
        "plt.fill_between(train_sizes, test_mean - test_std, test_mean + test_std, color=\"b\", alpha=0.2)\n",
        "\n",
        "plt.title(\"Learning Curve\")\n",
        "plt.xlabel(\"Training Set Size\"), plt.ylabel(\"R2 Score\"), plt.legend(loc=\"best\")\n",
        "plt.tight_layout()\n",
        "plt.show()\n"
      ],
      "metadata": {
        "colab": {
          "base_uri": "https://localhost:8080/",
          "height": 297
        },
        "id": "viyXpaC_FMto",
        "outputId": "176be0d6-e40a-4b00-81a3-d56473cda44b"
      },
      "execution_count": 14,
      "outputs": [
        {
          "output_type": "display_data",
          "data": {
            "text/plain": [
              "<Figure size 432x288 with 1 Axes>"
            ],
            "image/png": "[encoded data removed]"
          },
          "metadata": {
            "needs_background": "light"
          }
        }
      ]
    },
    {
      "cell_type": "markdown",
      "source": [
        "#CatBoostRegressor"
      ],
      "metadata": {
        "id": "pPMMrOO8jr7_"
      }
    },
    {
      "cell_type": "code",
      "source": [
        "\n",
        "# инициализация модели CatBoostRegressor\n",
        "cat_model = CatBoostRegressor()\n",
        "\n",
        "# задаем сетку гиперпараметров для перебора\n",
        "parameters = {\n",
        "    'iterations': [100, 500, 1000],\n",
        "    'learning_rate': [0.01, 0.1, 0.5],\n",
        "    'depth': [4, 6, 8],\n",
        "    'l2_leaf_reg': [1, 3, 5]\n",
        "}\n",
        "\n",
        "# создаем объект для поиска по сетке с кросс-валидацией\n",
        "grid_search = GridSearchCV(estimator=cat_model, \n",
        "                           param_grid=parameters, \n",
        "                           cv=3, \n",
        "                           n_jobs=-1, \n",
        "                           verbose=3)\n",
        "\n",
        "# запускаем перебор гиперпараметров на обучающей выборке\n",
        "grid_search.fit(X_train, y_train)\n",
        "\n",
        "# выводим наилучшие гиперпараметры и значение метрики качества\n",
        "print(\"Best score: %f using %s\" % (grid_search.best_score_, grid_search.best_params_))"
      ],
      "metadata": {
        "id": "leytB4SUjuhk"
      },
      "execution_count": null,
      "outputs": []
    },
    {
      "cell_type": "markdown",
      "source": [
        "**Закомментируем код выше чтобы каждый раз не вычислять оптимальные гиперпараметры** "
      ],
      "metadata": {
        "id": "47A9dl77j8PZ"
      }
    },
    {
      "cell_type": "code",
      "source": [
        "# Best score: 0.986447 using {'depth': 6, 'iterations': 1000, 'l2_leaf_reg': 1, 'learning_rate': 0.1}"
      ],
      "metadata": {
        "id": "2B_CrV8wjzYf"
      },
      "execution_count": 16,
      "outputs": []
    },
    {
      "cell_type": "code",
      "source": [
        "# создаем модель с наилучшими параметрами и обучаем ее на всей обучающей выборке\n",
        "best_model = CatBoostRegressor(**grid_search.best_params_)\n",
        "best_model.fit(X_train, y_train)\n",
        "\n",
        "# оцениваем качество модели на тестовой выборке\n",
        "# RMSE: 134973.88\n",
        "y_pred = best_model.predict(X_test)\n",
        "mse = mean_squared_error(y_test, y_pred)\n",
        "rmse = np.sqrt(mse)\n",
        "print(\"RMSE: %.2f\" % (rmse))"
      ],
      "metadata": {
        "id": "sM4-1JULkCqZ"
      },
      "execution_count": null,
      "outputs": []
    },
    {
      "cell_type": "code",
      "source": [
        "importance = best_model.get_feature_importance()\n",
        "print(importance)\n",
        "print(len(importance))"
      ],
      "metadata": {
        "id": "CyDV3sVukIB4",
        "colab": {
          "base_uri": "https://localhost:8080/"
        },
        "outputId": "8c90d436-20d5-4949-9857-a0a2b5dea4b7"
      },
      "execution_count": 18,
      "outputs": [
        {
          "output_type": "stream",
          "name": "stdout",
          "text": [
            "[1.21229025e-01 1.69430372e-01 1.18285133e-01 5.49012523e-02\n",
            " 2.34800501e-01 6.69294618e-01 5.45691457e-02 4.67615362e-04\n",
            " 2.50772234e-02 1.10277696e-01 3.39094012e-02 9.48218910e-02\n",
            " 1.45342623e-01 7.83052869e-02 5.69538018e-01 3.76823572e-01\n",
            " 1.98602197e-02 9.69242798e+01 7.63496047e-02 7.43400787e-02\n",
            " 4.80969489e-02]\n",
            "21\n"
          ]
        }
      ]
    },
    {
      "cell_type": "code",
      "source": [
        "print(\"Train score: {:.4f}\".format(best_model.score(X_train, y_train)))\n",
        "print(\"Test score: {:.4f}\".format(best_model.score(X_test, y_test)))"
      ],
      "metadata": {
        "id": "Yhs5c95wkJYn",
        "colab": {
          "base_uri": "https://localhost:8080/"
        },
        "outputId": "2c38f49a-cc02-40d6-9ba2-3f9790d357cc"
      },
      "execution_count": 19,
      "outputs": [
        {
          "output_type": "stream",
          "name": "stdout",
          "text": [
            "Train score: 0.9893\n",
            "Test score: 0.9871\n"
          ]
        }
      ]
    },
    {
      "cell_type": "code",
      "source": [
        "# Названия признаков\n",
        "features = ['sold_price', 'floor_num', 'floors_cnt', 'rooms_cnt', 'bedrooms_cnt',\n",
        "            'building_year', 'area_total', 'type', 'two_levels', 'bathroom', 'bathrooms_cnt',\n",
        "            'windows', 'territory', 'keep', 'balcon', 'city_district_id', 'city_street_id',\n",
        "            'building_year_category', 'wall_id_category', 'series_id_category',\n",
        "            'area_total_category']\n",
        "\n",
        "# Важность признаков\n",
        "importance = [1.21229025e-01, 1.69430372e-01, 1.18285133e-01, 5.49012523e-02,\n",
        "              2.34800501e-01, 6.69294618e-01, 5.45691457e-02, 4.67615362e-04,\n",
        "              2.50772234e-02, 1.10277696e-01, 3.39094012e-02, 9.48218910e-02,\n",
        "              1.45342623e-01, 7.83052869e-02, 5.69538018e-01, 3.76823572e-01,\n",
        "              1.98602197e-02, 9.69242798e+01, 7.63496047e-02, 7.43400787e-02,\n",
        "              4.80969489e-02]\n",
        "\n",
        "# Создаем словарь из названий признаков и их важности\n",
        "feature_importance_dict = dict(zip(features, importance))\n",
        "\n",
        "# Сортируем словарь по убыванию важности признаков\n",
        "sorted_feature_importance_dict = dict(sorted(feature_importance_dict.items(), \n",
        "                                             key=lambda x: x[1], reverse=True))\n",
        "\n",
        "# Создаем список с названиями признаков, отсортированный по убыванию важности\n",
        "sorted_feature_names = list(sorted_feature_importance_dict.keys())\n",
        "\n",
        "# Создаем список с важностью признаков, отсортированный по убыванию\n",
        "sorted_importance = list(sorted_feature_importance_dict.values())\n",
        "\n",
        "# Создаем график важности признаков\n",
        "plt.figure(figsize=(10, 8))\n",
        "plt.bar(sorted_feature_names, sorted_importance)\n",
        "plt.xticks(rotation=90)\n",
        "plt.title('Feature Importance')\n",
        "plt.xlabel('Features')\n",
        "plt.ylabel('Importance')\n",
        "plt.show()"
      ],
      "metadata": {
        "id": "q1RsquRdkQA9",
        "colab": {
          "base_uri": "https://localhost:8080/",
          "height": 619
        },
        "outputId": "8ca5a59d-3c94-4b04-b99c-c7adaf05c4b2"
      },
      "execution_count": 21,
      "outputs": [
        {
          "output_type": "display_data",
          "data": {
            "text/plain": [
              "<Figure size 720x576 with 1 Axes>"
            ],
            "image/png": "[encoded data removed]"
          },
          "metadata": {
            "needs_background": "light"
          }
        }
      ]
    },
    {
      "cell_type": "code",
      "source": [
        "# make predictions on train set\n",
        "y_train_pred = best_model.predict(X_train)\n",
        "\n",
        "# make predictions on test set\n",
        "y_test_pred = best_model.predict(X_test)\n",
        "\n",
        "train_mae = mean_absolute_error(y_train, y_train_pred)\n",
        "test_mae = mean_absolute_error(y_test, y_test_pred)\n",
        "\n",
        "y_pred_train = best_model.predict(X_train)\n",
        "y_pred_test = best_model.predict(X_test)\n",
        "\n",
        "train_mse = mean_squared_error(y_train, y_pred_train)\n",
        "test_mse = mean_squared_error(y_test, y_pred_test)"
      ],
      "metadata": {
        "id": "urHvHon0kbZT"
      },
      "execution_count": 22,
      "outputs": []
    },
    {
      "cell_type": "markdown",
      "source": [
        "# Вывод наилучших параметров и результатов модели CatBoostRegressor"
      ],
      "metadata": {
        "id": "fl9pL9pcqngW"
      }
    },
    {
      "cell_type": "code",
      "source": [
        "# print(\"Best parameters: \", best_model.best_params_)\n",
        "print(\"Train score: {:.4f}\".format(best_model.score(X_train, y_train)))\n",
        "print(\"Test score: {:.4f}\".format(best_model.score(X_test, y_test)))\n",
        "print(\"Train RMSE: {:.4f}\".format(np.sqrt(mean_squared_error(y_train, y_train_pred))))\n",
        "print(\"Test RMSE: {:.4f}\".format(np.sqrt(mean_squared_error(y_test, y_test_pred))))\n",
        "print(\"Train R^2: {:.4f}\".format(r2_score(y_train, y_train_pred)))\n",
        "print(\"Test R^2: {:.4f}\".format(r2_score(y_test, y_test_pred)))\n",
        "print(\"Train MAE: {:.4f}\".format(train_mae))\n",
        "print(\"Test MAE: {:.4f}\".format(test_mae))\n",
        "\n",
        "y_pred_train = best_model.predict(X_train)\n",
        "y_pred_test = best_model.predict(X_test)\n",
        "\n",
        "train_mse = mean_squared_error(y_train, y_pred_train)\n",
        "test_mse = mean_squared_error(y_test, y_pred_test)"
      ],
      "metadata": {
        "id": "ROim5IRNkdkI",
        "colab": {
          "base_uri": "https://localhost:8080/"
        },
        "outputId": "c6c47630-862c-4852-d74e-7896af6360e4"
      },
      "execution_count": 23,
      "outputs": [
        {
          "output_type": "stream",
          "name": "stdout",
          "text": [
            "Train score: 0.9893\n",
            "Test score: 0.9871\n",
            "Train RMSE: 121707.5897\n",
            "Test RMSE: 134973.8830\n",
            "Train R^2: 0.9893\n",
            "Test R^2: 0.9871\n",
            "Train MAE: 102425.6390\n",
            "Test MAE: 113865.2840\n"
          ]
        }
      ]
    },
    {
      "cell_type": "code",
      "source": [
        "# Здесь проводим кросс-валидацию с 5 фолдами и считаем метрику на каждом фолде\n",
        "scores = cross_val_score(best_model, X_train, y_train, cv=5, scoring='r2')\n",
        "\n",
        "# Здесь выводим среднее значение и стандартное отклонение метрики\n",
        "print(\"Mean R^2 score: {:.4f} (std: {:.4f})\".format(np.mean(scores), np.std(scores)))\n"
      ],
      "metadata": {
        "id": "xXzD3sbUkit8"
      },
      "execution_count": null,
      "outputs": []
    },
    {
      "cell_type": "code",
      "source": [
        "# Mean R^2 score: 0.9866 (std: 0.0004)"
      ],
      "metadata": {
        "id": "Smxr1iklAB8F"
      },
      "execution_count": null,
      "outputs": []
    },
    {
      "cell_type": "markdown",
      "source": [
        "Кривые обучения и валидации"
      ],
      "metadata": {
        "id": "ei2Qwojlku4f"
      }
    },
    {
      "cell_type": "code",
      "source": [
        "train_sizes, train_scores, test_scores = learning_curve(\n",
        "    best_model, X_train, y_train, cv=5, scoring='r2', n_jobs=-1)\n",
        "\n",
        "train_mean = np.mean(train_scores, axis=1)\n",
        "train_std = np.std(train_scores, axis=1)\n",
        "test_mean = np.mean(test_scores, axis=1)\n",
        "test_std = np.std(test_scores, axis=1)\n",
        "\n",
        "plt.plot(train_sizes, train_mean, label=\"Training score\", color=\"r\")\n",
        "plt.fill_between(train_sizes, train_mean - train_std, train_mean + train_std, color=\"r\", alpha=0.2)\n",
        "plt.plot(train_sizes, test_mean, label=\"Cross-validation score\", color=\"b\")\n",
        "plt.fill_between(train_sizes, test_mean - test_std, test_mean + test_std, color=\"b\", alpha=0.2)\n",
        "\n",
        "plt.title(\"Learning Curve\")\n",
        "plt.xlabel(\"Training Set Size\"), plt.ylabel(\"R2 Score\"), plt.legend(loc=\"best\")\n",
        "plt.tight_layout()\n",
        "plt.show()"
      ],
      "metadata": {
        "id": "LolZa718kscE",
        "colab": {
          "base_uri": "https://localhost:8080/",
          "height": 297
        },
        "outputId": "5e6f7264-7733-438e-eb1b-039f181853d2"
      },
      "execution_count": 25,
      "outputs": [
        {
          "output_type": "display_data",
          "data": {
            "text/plain": [
              "<Figure size 432x288 with 1 Axes>"
            ],
            "image/png": "[encoded data removed]"
          },
          "metadata": {
            "needs_background": "light"
          }
        }
      ]
    },
    {
      "cell_type": "markdown",
      "source": [
        "#XGBoost"
      ],
      "metadata": {
        "id": "DnB09gg3k93g"
      }
    },
    {
      "cell_type": "code",
      "source": [
        "# Создание модели XGBoost\n",
        "# model_XGB = XGBRegressor()\n",
        "\n",
        "# # Создание сетки параметров для перебора\n",
        "# param_grid = {\n",
        "#         'learning_rate': [0.01, 0.1, 0.5, 1],\n",
        "#         'max_depth': [3, 5, 7, 9],\n",
        "#         'n_estimators': [50, 100, 200, 500],\n",
        "#         'subsample': [0.5, 0.7, 1.0],\n",
        "#         'colsample_bytree': [0.5, 0.7, 1.0],\n",
        "#         'gamma': [0, 0.1, 0.5, 1]\n",
        "# }\n",
        "\n",
        "# # Создание объекта RandomizedSearchCV для поиска по сетке\n",
        "# random_search = RandomizedSearchCV(model_XGB, param_distributions=param_grid, n_iter=50, cv=5, verbose=2, random_state=42, n_jobs=-1)\n",
        "\n",
        "# # Обучение модели с поиском по сетке\n",
        "# random_search.fit(X_train, y_train)\n",
        "\n",
        "# # Вывод лучших параметров модели\n",
        "# print(random_search.best_params_)"
      ],
      "metadata": {
        "id": "9SFGVtoRk9fK"
      },
      "execution_count": 26,
      "outputs": []
    },
    {
      "cell_type": "code",
      "source": [
        "# Лушчие гиперпараметры из кода выше (считается ~40 мин)\n",
        "# {'subsample': 1.0, 'n_estimators': 200, 'max_depth': 3, 'learning_rate': 0.5, 'gamma': 0, 'colsample_bytree': 1.0}"
      ],
      "metadata": {
        "id": "DEhHTHqalPh_"
      },
      "execution_count": 27,
      "outputs": []
    },
    {
      "cell_type": "code",
      "source": [
        "# Инициализация модели XGBoostRegressor\n",
        "xgb_model = XGBRegressor(objective='reg:squarederror', \n",
        "                          eval_metric='rmse', \n",
        "                          subsample=1.0, \n",
        "                          n_estimators=200, \n",
        "                          max_depth=3, \n",
        "                          learning_rate=0.5, \n",
        "                          gamma=0, \n",
        "                          colsample_bytree=1.0)\n",
        "\n",
        "# Обучение модели\n",
        "xgb_model.fit(X_train, y_train)\n",
        "\n",
        "# Предсказание на тестовой выборке\n",
        "y_pred = xgb_model.predict(X_test)\n",
        "\n",
        "# Оценка качества модели\n",
        "mse = mean_squared_error(y_test, y_pred)\n",
        "rmse = np.sqrt(mse)\n",
        "print(\"RMSE: %.2f\" % (rmse))\n"
      ],
      "metadata": {
        "id": "9UPWofuklW6a",
        "colab": {
          "base_uri": "https://localhost:8080/"
        },
        "outputId": "ed364c4b-61cd-4b4c-aec6-235705495880"
      },
      "execution_count": 28,
      "outputs": [
        {
          "output_type": "stream",
          "name": "stdout",
          "text": [
            "RMSE: 136420.99\n"
          ]
        }
      ]
    },
    {
      "cell_type": "code",
      "source": [
        "importance = xgb_model.feature_importances_\n",
        "print(importance)"
      ],
      "metadata": {
        "id": "0iK9k7VllYgW",
        "colab": {
          "base_uri": "https://localhost:8080/"
        },
        "outputId": "a20197d4-be9b-4bf2-d921-85a1a50098e5"
      },
      "execution_count": 29,
      "outputs": [
        {
          "output_type": "stream",
          "name": "stdout",
          "text": [
            "[2.3084143e-04 4.5987443e-04 2.7047374e-04 2.1746328e-04 2.7466446e-04\n",
            " 8.3553354e-04 2.7807482e-04 3.4487446e-05 2.2582020e-04 4.2171052e-04\n",
            " 3.9714988e-04 2.7451944e-04 4.5272397e-04 2.3244441e-04 4.9889274e-04\n",
            " 3.8653542e-04 0.0000000e+00 9.9373800e-01 3.7894532e-04 3.9183261e-04\n",
            " 0.0000000e+00]\n"
          ]
        }
      ]
    },
    {
      "cell_type": "code",
      "source": [
        "# Задаем названия признаков\n",
        "feature_names = ['sold_price', 'floor_num', 'floors_cnt', 'rooms_cnt', 'bedrooms_cnt',\n",
        "                 'building_year', 'area_total', 'type', 'two_levels', 'bathroom', \n",
        "                 'bathrooms_cnt', 'windows', 'territory', 'keep', 'balcon',\n",
        "                 'city_district_id', 'city_street_id', 'building_year_category', \n",
        "                 'wall_id_category', 'series_id_category', 'area_total_category']\n",
        "\n",
        "# Задаем важность признаков, полученную из модели\n",
        "importance = [2.3084143e-04, 4.5987443e-04, 2.7047374e-04, 2.1746328e-04, \n",
        "              2.7466446e-04, 8.3553354e-04, 2.7807482e-04, 3.4487446e-05,\n",
        "              2.2582020e-04, 4.2171052e-04, 3.9714988e-04, 2.7451944e-04,\n",
        "              4.5272397e-04, 2.3244441e-04, 4.9889274e-04, 3.8653542e-04,\n",
        "              0.0000000e+00, 9.9373800e-01, 3.7894532e-04, 3.9183261e-04,\n",
        "              0.0000000e+00]\n",
        "\n",
        "# Создаем словарь из названий признаков и их важности\n",
        "feature_importance_dict = dict(zip(feature_names, importance))\n",
        "\n",
        "# Сортируем словарь по убыванию важности признаков\n",
        "sorted_feature_importance_dict = dict(sorted(feature_importance_dict.items(), \n",
        "                                             key=lambda x: x[1], reverse=True))\n",
        "\n",
        "# Создаем список с названиями признаков, отсортированный по убыванию важности\n",
        "sorted_feature_names = list(sorted_feature_importance_dict.keys())\n",
        "\n",
        "# Создаем список с важностью признаков, отсортированный по убыванию\n",
        "sorted_importance = list(sorted_feature_importance_dict.values())\n",
        "\n",
        "# Создаем график важности признаков\n",
        "plt.figure(figsize=(10, 8))\n",
        "plt.bar(sorted_feature_names, sorted_importance)\n",
        "plt.xticks(rotation=90)\n",
        "plt.title('Feature Importance')\n",
        "plt.xlabel('Features')\n",
        "plt.ylabel('Importance')\n",
        "plt.show()"
      ],
      "metadata": {
        "id": "mv79XGrjlbRZ",
        "colab": {
          "base_uri": "https://localhost:8080/",
          "height": 619
        },
        "outputId": "9400030d-1923-402e-c12a-585b41c0b9f3"
      },
      "execution_count": 30,
      "outputs": [
        {
          "output_type": "display_data",
          "data": {
            "text/plain": [
              "<Figure size 720x576 with 1 Axes>"
            ],
            "image/png": "[encoded data removed]"
          },
          "metadata": {
            "needs_background": "light"
          }
        }
      ]
    },
    {
      "cell_type": "code",
      "source": [
        "# make predictions on train set\n",
        "y_train_pred = xgb_model.predict(X_train)\n",
        "\n",
        "# make predictions on test set\n",
        "y_test_pred = xgb_model.predict(X_test)\n",
        "\n",
        "train_mae = mean_absolute_error(y_train, y_train_pred)\n",
        "test_mae = mean_absolute_error(y_test, y_test_pred)\n",
        "\n",
        "y_pred_train = xgb_model.predict(X_train)\n",
        "y_pred_test = xgb_model.predict(X_test)\n",
        "\n",
        "train_mse = mean_squared_error(y_train, y_pred_train)\n",
        "test_mse = mean_squared_error(y_test, y_pred_test)"
      ],
      "metadata": {
        "id": "mbro4gS4lmoj"
      },
      "execution_count": 31,
      "outputs": []
    },
    {
      "cell_type": "markdown",
      "source": [
        "# Вывод наилучших параметров и результатов модели XGBoost"
      ],
      "metadata": {
        "id": "cuZpkjE1qwdm"
      }
    },
    {
      "cell_type": "code",
      "source": [
        "# print(\"Best parameters: \", xgb_model.best_params_)\n",
        "print(\"Train score: {:.4f}\".format(xgb_model.score(X_train, y_train)))\n",
        "print(\"Test score: {:.4f}\".format(xgb_model.score(X_test, y_test)))\n",
        "print(\"Train RMSE: {:.4f}\".format(np.sqrt(mean_squared_error(y_train, y_train_pred))))\n",
        "print(\"Test RMSE: {:.4f}\".format(np.sqrt(mean_squared_error(y_test, y_test_pred))))\n",
        "print(\"Train R^2: {:.4f}\".format(r2_score(y_train, y_train_pred)))\n",
        "print(\"Test R^2: {:.4f}\".format(r2_score(y_test, y_test_pred)))\n",
        "print(\"Train MAE: {:.4f}\".format(train_mae))\n",
        "print(\"Test MAE: {:.4f}\".format(test_mae))\n",
        "\n",
        "y_pred_train = xgb_model.predict(X_train)\n",
        "y_pred_test = xgb_model.predict(X_test)\n",
        "\n",
        "train_mse = mean_squared_error(y_train, y_pred_train)\n",
        "test_mse = mean_squared_error(y_test, y_pred_test)"
      ],
      "metadata": {
        "id": "cGS2yZjzlmfa",
        "colab": {
          "base_uri": "https://localhost:8080/"
        },
        "outputId": "5286bd4f-9cca-4d56-acd7-1d316d51069b"
      },
      "execution_count": 32,
      "outputs": [
        {
          "output_type": "stream",
          "name": "stdout",
          "text": [
            "Train score: 0.9878\n",
            "Test score: 0.9868\n",
            "Train RMSE: 130236.3975\n",
            "Test RMSE: 136420.9858\n",
            "Train R^2: 0.9878\n",
            "Test R^2: 0.9868\n",
            "Train MAE: 110141.3504\n",
            "Test MAE: 115266.2338\n"
          ]
        }
      ]
    },
    {
      "cell_type": "code",
      "source": [
        "# Здесь проводим кросс-валидацию с 5 фолдами и считаем метрику на каждом фолде\n",
        "scores = cross_val_score(xgb_model, X_train, y_train, cv=5, scoring='r2')\n",
        "\n",
        "# Здесь выводим среднее значение и стандартное отклонение метрики\n",
        "print(\"Mean R^2 score: {:.4f} (std: {:.4f})\".format(np.mean(scores), np.std(scores)))"
      ],
      "metadata": {
        "id": "fy9uZESXlmcY",
        "colab": {
          "base_uri": "https://localhost:8080/"
        },
        "outputId": "95517ec0-367a-4747-caa1-d0bd07ad91ef"
      },
      "execution_count": 33,
      "outputs": [
        {
          "output_type": "stream",
          "name": "stdout",
          "text": [
            "Mean R^2 score: 0.9863 (std: 0.0004)\n"
          ]
        }
      ]
    },
    {
      "cell_type": "markdown",
      "source": [
        "Кривые обучения и валидации"
      ],
      "metadata": {
        "id": "pwBE6Ha8qZ39"
      }
    },
    {
      "cell_type": "code",
      "source": [
        "train_sizes, train_scores, test_scores = learning_curve(\n",
        "    xgb_model, X_train, y_train, cv=5, scoring='r2', n_jobs=-1)\n",
        "\n",
        "train_mean = np.mean(train_scores, axis=1)\n",
        "train_std = np.std(train_scores, axis=1)\n",
        "test_mean = np.mean(test_scores, axis=1)\n",
        "test_std = np.std(test_scores, axis=1)\n",
        "\n",
        "plt.plot(train_sizes, train_mean, label=\"Training score\", color=\"r\")\n",
        "plt.fill_between(train_sizes, train_mean - train_std, train_mean + train_std, color=\"r\", alpha=0.2)\n",
        "plt.plot(train_sizes, test_mean, label=\"Cross-validation score\", color=\"b\")\n",
        "plt.fill_between(train_sizes, test_mean - test_std, test_mean + test_std, color=\"b\", alpha=0.2)\n",
        "\n",
        "plt.title(\"Learning Curve\")\n",
        "plt.xlabel(\"Training Set Size\"), plt.ylabel(\"R2 Score\"), plt.legend(loc=\"best\")\n",
        "plt.tight_layout()\n",
        "plt.show()"
      ],
      "metadata": {
        "id": "PFPA3XzClmJd",
        "colab": {
          "base_uri": "https://localhost:8080/",
          "height": 297
        },
        "outputId": "e3f6f263-1f6e-43b0-8f76-0f4d429995ca"
      },
      "execution_count": 34,
      "outputs": [
        {
          "output_type": "display_data",
          "data": {
            "text/plain": [
              "<Figure size 432x288 with 1 Axes>"
            ],
            "image/png": "[encoded data removed]"
          },
          "metadata": {
            "needs_background": "light"
          }
        }
      ]
    },
    {
      "cell_type": "markdown",
      "source": [
        "Вывод: \n",
        "\n",
        "Проанализировав 3 модели лучшей оказалась **CatBoostRegressor** ввиду того что она обладает наиболее благоприятными параметрами, сохраним эту модель и сделаем систему оценивающую объекты недвижимости по их параметрам"
      ],
      "metadata": {
        "id": "-pqT88CAq-4Y"
      }
    },
    {
      "cell_type": "code",
      "source": [
        "import catboost as cb\n",
        "\n",
        "best_model = cb.CatBoostRegressor()\n",
        "best_model.fit(X_train, y_train)\n",
        "\n",
        "best_model.save_model('/content/drive/MyDrive/Colab Notebooks/files_labs/E-SOFT/catboost_model.dump')\n"
      ],
      "metadata": {
        "id": "VbFl_yXSqU81"
      },
      "execution_count": null,
      "outputs": []
    }
  ]
}