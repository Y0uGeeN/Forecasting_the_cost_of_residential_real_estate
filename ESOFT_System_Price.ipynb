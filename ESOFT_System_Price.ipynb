{
  "nbformat": 4,
  "nbformat_minor": 0,
  "metadata": {
    "colab": {
      "provenance": []
    },
    "kernelspec": {
      "name": "python3",
      "display_name": "Python 3"
    },
    "language_info": {
      "name": "python"
    }
  },
  "cells": [
    {
      "cell_type": "markdown",
      "source": [
        "#Система оценивающая объекты недвижимости по их параметрам\n",
        "\n"
      ],
      "metadata": {
        "id": "dTHLUAHRosK0"
      }
    },
    {
      "cell_type": "code",
      "execution_count": 1,
      "metadata": {
        "id": "v9xwfqnFWWDi",
        "colab": {
          "base_uri": "https://localhost:8080/"
        },
        "outputId": "40aa0978-27b6-4da9-a313-5bccdb3a9e0a"
      },
      "outputs": [
        {
          "output_type": "stream",
          "name": "stdout",
          "text": [
            "Drive already mounted at /content/drive; to attempt to forcibly remount, call drive.mount(\"/content/drive\", force_remount=True).\n"
          ]
        }
      ],
      "source": [
        "from google.colab import drive\n",
        "drive.mount('/content/drive')"
      ]
    },
    {
      "cell_type": "code",
      "source": [
        "!pip install catboost"
      ],
      "metadata": {
        "id": "Z79D41DHjacM"
      },
      "execution_count": null,
      "outputs": []
    },
    {
      "cell_type": "code",
      "source": [
        "from catboost import CatBoostRegressor\n",
        "import pandas as pd"
      ],
      "metadata": {
        "id": "bThmi5F0G6-q"
      },
      "execution_count": 3,
      "outputs": []
    },
    {
      "cell_type": "markdown",
      "source": [
        "Загружаем модель "
      ],
      "metadata": {
        "id": "OT1JKRl5K88D"
      }
    },
    {
      "cell_type": "code",
      "source": [
        "catboost_model = CatBoostRegressor()\n",
        "catboost_model.load_model('/content/drive/MyDrive/Colab Notebooks/files_labs/E-SOFT/catboost_model.dump')\n",
        "\n"
      ],
      "metadata": {
        "id": "9vzciDT-WgQa",
        "colab": {
          "base_uri": "https://localhost:8080/"
        },
        "outputId": "98b7afe9-c79b-4647-e577-7f44464ab25f"
      },
      "execution_count": 4,
      "outputs": [
        {
          "output_type": "execute_result",
          "data": {
            "text/plain": [
              "<catboost.core.CatBoostRegressor at 0x7f4a804774c0>"
            ]
          },
          "metadata": {},
          "execution_count": 4
        }
      ]
    },
    {
      "cell_type": "markdown",
      "source": [
        "Загружаем наши объекты недвижимости"
      ],
      "metadata": {
        "id": "t57OFzRyK_9w"
      }
    },
    {
      "cell_type": "code",
      "source": [
        "data_itog = pd.read_excel('/content/drive/MyDrive/Colab Notebooks/files_labs/E-SOFT/final_data.xlsx')"
      ],
      "metadata": {
        "id": "QIH_W84_XrdU"
      },
      "execution_count": 5,
      "outputs": []
    },
    {
      "cell_type": "markdown",
      "source": [
        "Используем метод predict для получения предсказанных ценн недвижимости"
      ],
      "metadata": {
        "id": "_vJ9skrbLGe9"
      }
    },
    {
      "cell_type": "code",
      "source": [
        "predicted_prices = catboost_model.predict(data_itog)\n"
      ],
      "metadata": {
        "id": "uTv-BqmcsjFz"
      },
      "execution_count": 6,
      "outputs": []
    },
    {
      "cell_type": "code",
      "source": [
        "data_itog['predicted_price'] = predicted_prices"
      ],
      "metadata": {
        "id": "8WJJBmiXHdnK"
      },
      "execution_count": 9,
      "outputs": []
    },
    {
      "cell_type": "markdown",
      "source": [
        "#Предсказываемая цена"
      ],
      "metadata": {
        "id": "0bo5SKaAKKc_"
      }
    },
    {
      "cell_type": "code",
      "source": [
        "print(data_itog.loc[3, 'predicted_price'], \"Руб\")"
      ],
      "metadata": {
        "colab": {
          "base_uri": "https://localhost:8080/"
        },
        "id": "O5i_LwUHHf4x",
        "outputId": "57c7b02a-efa9-4a03-c489-4e7d6e511ece"
      },
      "execution_count": 10,
      "outputs": [
        {
          "output_type": "stream",
          "name": "stdout",
          "text": [
            "2280631.7534444937 Руб\n"
          ]
        }
      ]
    },
    {
      "cell_type": "markdown",
      "source": [
        "#Цена которая была указана в датасете"
      ],
      "metadata": {
        "id": "d1Yz2gISKQ4a"
      }
    },
    {
      "cell_type": "code",
      "source": [
        "print(data_itog.loc[3, 'sold_price'], \"Руб\")"
      ],
      "metadata": {
        "colab": {
          "base_uri": "https://localhost:8080/"
        },
        "id": "JEFYAqF9J04i",
        "outputId": "bf616ddb-1268-4748-fe65-8cfbd2cc2c42"
      },
      "execution_count": 11,
      "outputs": [
        {
          "output_type": "stream",
          "name": "stdout",
          "text": [
            "2200000 Руб\n"
          ]
        }
      ]
    },
    {
      "cell_type": "markdown",
      "source": [
        "Точность довольно хорошая :)"
      ],
      "metadata": {
        "id": "YW8Dlf_kK1qb"
      }
    }
  ]
}